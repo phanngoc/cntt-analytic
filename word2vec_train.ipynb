{
 "cells": [
  {
   "cell_type": "code",
   "execution_count": 8,
   "metadata": {},
   "outputs": [
    {
     "name": "stdout",
     "output_type": "stream",
     "text": [
      "8\n"
     ]
    }
   ],
   "source": [
    "import gensim\n",
    "from gensim.models import Word2Vec\n",
    "import matplotlib.pyplot as plt\n",
    "from gensim.models.word2vec import LineSentence\n",
    "import multiprocessing\n",
    "import pandas as pd\n",
    "cores = multiprocessing.cpu_count()\n",
    "print(cores)"
   ]
  },
  {
   "cell_type": "code",
   "execution_count": null,
   "metadata": {},
   "outputs": [],
   "source": [
    "### Các đoạn code sau bị comment, vì đã chạy xong và export to csv"
   ]
  },
  {
   "cell_type": "code",
   "execution_count": 7,
   "metadata": {},
   "outputs": [
    {
     "name": "stdout",
     "output_type": "stream",
     "text": [
      "   Unnamed: 0                                   MessageWordToken\n",
      "0           0  ['Năm', '2023', 'đánh_dấu', 'nhiều', 'tiến_bộ'...\n",
      "1           1  ['🌟', 'CẦN', 'BỔ_SUNG', '6', 'BẠN', 'PHỤ', 'Cá...\n",
      "2           2  ['Dầu', 'Nhật', 'IKO', 'Chỉ', 'Bạn', 'Miễn_Phí...\n",
      "3           3  ['(', 'HẢI_CHÂU', ')', 'FRONTEND', '(', 'VUEJS...\n",
      "4           4  ['*', '*', 'T.ì.m', 'người', 'gõ', 'văn_bản', ...\n"
     ]
    }
   ],
   "source": [
    "df_words = pd.read_csv('./preprocess/word_tokened.csv')\n",
    "print(df_words.head())"
   ]
  },
  {
   "cell_type": "code",
   "execution_count": null,
   "metadata": {},
   "outputs": [],
   "source": [
    "from gensim.models import Word2Vec\n",
    "# model = Word2Vec.load('../model/GoogleNews-vectors-negative300.bin')\n",
    "# model = gensim.models.KeyedVectors.load_word2vec_format('../model/wiki.vi.model.bin', binary=True)\n",
    "messageWordToken = df_words['MessageWordToken'].values.tolist()\n",
    "model = Word2Vec(messageWordToken, vector_size=100, epochs=100, workers=4)"
   ]
  },
  {
   "cell_type": "code",
   "execution_count": null,
   "metadata": {},
   "outputs": [],
   "source": [
    "model.save(\"./models/word2vec_model.bin\")"
   ]
  }
 ],
 "metadata": {
  "kernelspec": {
   "display_name": "Python 3",
   "language": "python",
   "name": "python3"
  },
  "language_info": {
   "codemirror_mode": {
    "name": "ipython",
    "version": 3
   },
   "file_extension": ".py",
   "mimetype": "text/x-python",
   "name": "python",
   "nbconvert_exporter": "python",
   "pygments_lexer": "ipython3",
   "version": "3.10.3"
  },
  "orig_nbformat": 4
 },
 "nbformat": 4,
 "nbformat_minor": 2
}
