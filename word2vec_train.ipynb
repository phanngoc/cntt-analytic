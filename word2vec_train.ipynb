{
 "cells": [
  {
   "cell_type": "code",
   "execution_count": 8,
   "metadata": {},
   "outputs": [
    {
     "name": "stdout",
     "output_type": "stream",
     "text": [
      "8\n"
     ]
    }
   ],
   "source": [
    "import gensim\n",
    "from gensim.models import Word2Vec\n",
    "import matplotlib.pyplot as plt\n",
    "from gensim.models.word2vec import LineSentence\n",
    "import multiprocessing\n",
    "cores = multiprocessing.cpu_count()\n",
    "print(cores)"
   ]
  },
  {
   "cell_type": "code",
   "execution_count": null,
   "metadata": {},
   "outputs": [],
   "source": [
    "### Các đoạn code sau bị comment, vì đã chạy xong và export to csv"
   ]
  },
  {
   "cell_type": "code",
   "execution_count": 2,
   "metadata": {},
   "outputs": [
    {
     "name": "stdout",
     "output_type": "stream",
     "text": [
      "       Unnamed: 0.1    Unnamed: 0         Likes        Shares      Comments\n",
      "count  45992.000000  45992.000000  45992.000000  45992.000000  45992.000000\n",
      "mean   23534.985715  25442.183793      8.470604      0.408615      2.837907\n",
      "std    13677.416353  15059.220781     13.716797      1.765527      5.702824\n",
      "min        0.000000      0.000000      0.000000      0.000000      0.000000\n",
      "25%    11690.750000  12274.750000      1.000000      0.000000      0.000000\n",
      "50%    23364.500000  24910.500000      4.000000      0.000000      1.000000\n",
      "75%    35384.250000  38774.250000     10.000000      0.000000      3.000000\n",
      "max    47600.000000  51769.000000    549.000000     86.000000    147.000000\n"
     ]
    }
   ],
   "source": [
    "import pandas as pd\n",
    "import numpy as np\n",
    "# df = pd.read_csv('./preprocess/filter3.csv')\n",
    "# df.head()\n",
    "# print(df.describe())"
   ]
  },
  {
   "cell_type": "code",
   "execution_count": 3,
   "metadata": {},
   "outputs": [
    {
     "name": "stdout",
     "output_type": "stream",
     "text": [
      "0    [Năm, 2023, đánh_dấu, nhiều, tiến_bộ, và, các,...\n",
      "1    [🌟, CẦN, BỔ_SUNG, 6, BẠN, PHỤ, Các, công_việc,...\n",
      "2    [Dầu, Nhật, IKO, Chỉ, Bạn, Miễn_Phí, Cách, Tăn...\n",
      "3    [(, HẢI_CHÂU, ), FRONTEND, (, VUEJS, ), LEADER...\n",
      "4    [*, *, T.ì.m, người, gõ, văn_bản, thuê, ., *, ...\n",
      "Name: MessageWorkToken, dtype: object\n"
     ]
    }
   ],
   "source": [
    "# from underthesea import word_tokenize\n",
    "# df['MessageWordToken'] = df['Message'].apply(lambda x: word_tokenize(x, format=\"text\").split())\n",
    "# print(df['MessageWordToken'].head())"
   ]
  },
  {
   "cell_type": "code",
   "execution_count": 4,
   "metadata": {},
   "outputs": [],
   "source": [
    "# df['MessageWordToken'].to_csv('./preprocess/word_tokened.csv', index=True, header=True)"
   ]
  },
  {
   "cell_type": "code",
   "execution_count": 7,
   "metadata": {},
   "outputs": [
    {
     "name": "stdout",
     "output_type": "stream",
     "text": [
      "   Unnamed: 0                                   MessageWordToken\n",
      "0           0  ['Năm', '2023', 'đánh_dấu', 'nhiều', 'tiến_bộ'...\n",
      "1           1  ['🌟', 'CẦN', 'BỔ_SUNG', '6', 'BẠN', 'PHỤ', 'Cá...\n",
      "2           2  ['Dầu', 'Nhật', 'IKO', 'Chỉ', 'Bạn', 'Miễn_Phí...\n",
      "3           3  ['(', 'HẢI_CHÂU', ')', 'FRONTEND', '(', 'VUEJS...\n",
      "4           4  ['*', '*', 'T.ì.m', 'người', 'gõ', 'văn_bản', ...\n"
     ]
    }
   ],
   "source": [
    "df_words = pd.read_csv('./preprocess/word_tokened.csv')\n",
    "print(df_words.head())"
   ]
  },
  {
   "cell_type": "code",
   "execution_count": null,
   "metadata": {},
   "outputs": [],
   "source": [
    "from gensim.models import Word2Vec\n",
    "# model = Word2Vec.load('../model/GoogleNews-vectors-negative300.bin')\n",
    "# model = gensim.models.KeyedVectors.load_word2vec_format('../model/wiki.vi.model.bin', binary=True)\n",
    "messageWordToken = df_words['MessageWordToken'].values.tolist()\n",
    "model = Word2Vec(messageWordToken, vector_size=100, epochs=100, workers=4)"
   ]
  },
  {
   "cell_type": "code",
   "execution_count": null,
   "metadata": {},
   "outputs": [],
   "source": [
    "model.save(\"./models/word2vec_model.bin\")"
   ]
  }
 ],
 "metadata": {
  "kernelspec": {
   "display_name": "Python 3",
   "language": "python",
   "name": "python3"
  },
  "language_info": {
   "codemirror_mode": {
    "name": "ipython",
    "version": 3
   },
   "file_extension": ".py",
   "mimetype": "text/x-python",
   "name": "python",
   "nbconvert_exporter": "python",
   "pygments_lexer": "ipython3",
   "version": "3.10.3"
  },
  "orig_nbformat": 4
 },
 "nbformat": 4,
 "nbformat_minor": 2
}
