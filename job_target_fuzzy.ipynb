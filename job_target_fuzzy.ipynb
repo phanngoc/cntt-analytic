{
 "cells": [
  {
   "cell_type": "markdown",
   "metadata": {},
   "source": [
    "# Đánh target ngôn ngữ cho bài tuyển dụng dựa trên fuzzy match python."
   ]
  },
  {
   "cell_type": "code",
   "execution_count": 11,
   "metadata": {},
   "outputs": [
    {
     "name": "stdout",
     "output_type": "stream",
     "text": [
      "       Unnamed: 0.1    Unnamed: 0         Likes        Shares      Comments\n",
      "count  45992.000000  45992.000000  45992.000000  45992.000000  45992.000000\n",
      "mean   23534.985715  25442.183793      8.470604      0.408615      2.837907\n",
      "std    13677.416353  15059.220781     13.716797      1.765527      5.702824\n",
      "min        0.000000      0.000000      0.000000      0.000000      0.000000\n",
      "25%    11690.750000  12274.750000      1.000000      0.000000      0.000000\n",
      "50%    23364.500000  24910.500000      4.000000      0.000000      1.000000\n",
      "75%    35384.250000  38774.250000     10.000000      0.000000      3.000000\n",
      "max    47600.000000  51769.000000    549.000000     86.000000    147.000000\n"
     ]
    }
   ],
   "source": [
    "import pandas as pd\n",
    "import numpy as np\n",
    "df = pd.read_csv('./preprocess/filter3.csv')\n",
    "df.head()\n",
    "print(df.describe())"
   ]
  },
  {
   "cell_type": "code",
   "execution_count": 12,
   "metadata": {},
   "outputs": [],
   "source": [
    "# !pip install thefuzz"
   ]
  },
  {
   "cell_type": "code",
   "execution_count": 21,
   "metadata": {},
   "outputs": [
    {
     "name": "stdout",
     "output_type": "stream",
     "text": [
      "{'php': ['php engineer', 'PHP Developer'], 'java': ['Java Developer', 'java engineer', 'Spring'], 'javascript': ['javascript engineer', 'JS Developer', 'Typescript'], 'AI Engineer': ['AI Developer'], 'Dầu Nhật': ['Dầu Nhật Bản'], 'Người gõ máy': ['Người gõ máy tính'], 'Nodejs': ['Nodejs Developer', 'Nodejs Engineer', 'ExpressJS/Lookback/Koa/NestJS/MeteorJS framework.', 'ExpressJS', 'Lookback', 'Koa', 'NestJS', 'MeteorJS'], 'BrSE': ['MIDDLE BRSE', 'SENIOR BRSE', 'Brse PM', 'Brse TL'], 'C#': ['.NET', '.Net', '.Net Developer', 'C# Developer', 'C# Engineer'], 'C++': ['C++ Developer', 'C++ Engineer', 'Middle/Senior C++'], 'network': [], 'automation test': ['Automation Tester'], 'frontend': ['html', 'css', 'html/css', 'html/css/javascript'], 'UI/UX': ['UI/UX DESIGNER'], 'RUBY': ['SENIOR BACKEND RUBY', 'BACKEND RUBY'], 'python': ['Python Developer', 'Python Engineer', 'Python'], 'Linux': ['Linux Developer', 'Linux Engineer'], 'Operator': ['Operator', 'operator'], 'ReactJS': ['ReactJS Developer', 'ReactJS Engineer'], 'comtor': ['IT comtor'], 'Backend': ['Backend Developer', 'Back-end']}\n"
     ]
    }
   ],
   "source": [
    "file_path = './target/language.txt'\n",
    "keyword_list = []\n",
    "keyword_dict = {}\n",
    "currentParentWord = ''\n",
    "with open(file_path, 'r') as file:\n",
    "    for line in file:\n",
    "        word = line.strip(':\\n')  # Remove leading/trailing whitespaces and newline characters\n",
    "        pack = (word, line[-2])\n",
    "        if line[-2] == ':':\n",
    "            currentParentWord = word\n",
    "            keyword_dict[currentParentWord] = []\n",
    "        else:\n",
    "            keyword_dict[currentParentWord].append(word)\n",
    "\n",
    "print(keyword_dict)"
   ]
  },
  {
   "cell_type": "code",
   "execution_count": 22,
   "metadata": {},
   "outputs": [
    {
     "name": "stdout",
     "output_type": "stream",
     "text": [
      "57\n"
     ]
    }
   ],
   "source": [
    "from thefuzz import fuzz\n",
    "from thefuzz import process\n",
    "\n",
    "text = \"\"\"\n",
    "We are hiring for a Java Engineer with experience in JavaScript and PHP. If you are a talented developer proficient in PHP, Java, and JavaScript, apply now! We also have an opening for a JS Developer.\n",
    "\"\"\"\n",
    "\n",
    "keywords = ['php', 'java', 'javascript', 'java engineer', 'javascript engineer', 'php engineer', 'JS Developer']\n",
    "\n",
    "matched_keywords = []\n",
    "\n",
    "for keyword in keywords:\n",
    "    if fuzz.partial_ratio(keyword, text.lower()) >= 75:  # Adjust the threshold as needed\n",
    "        matched_keywords.append(keyword)\n",
    "\n",
    "# print(matched_keywords)\n",
    "\n",
    "text2 = \"We are hiring for a Java Engineer with experience in JavaScript and PHP\"\n",
    "print(fuzz.partial_ratio(\"Java Developer\", text2))"
   ]
  },
  {
   "cell_type": "code",
   "execution_count": 23,
   "metadata": {},
   "outputs": [],
   "source": [
    "def get_matched_keywords(text, keywords, threshold=75):\n",
    "    matched_keywords = []\n",
    "    for keyParent in keywords:\n",
    "        keyword_list = keywords[keyParent].lower()\n",
    "        if fuzz.partial_ratio(keyParent, text.lower()) >= threshold:\n",
    "            matched_keywords.append(keyParent)\n",
    "        else:\n",
    "            for keyword in keyword_list:\n",
    "                if fuzz.partial_ratio(keyword, text.lower()) >= threshold:\n",
    "                    matched_keywords.append(keyParent)\n",
    "    return matched_keywords\n",
    "\n",
    "df['Keyword'] = df['Message'].apply(get_matched_keywords, args=(keyword_list, 75))"
   ]
  },
  {
   "cell_type": "code",
   "execution_count": 24,
   "metadata": {},
   "outputs": [],
   "source": [
    "df['Keyword'].to_csv('./preprocess/language.csv', index=True, header=True)"
   ]
  },
  {
   "cell_type": "code",
   "execution_count": 20,
   "metadata": {},
   "outputs": [
    {
     "name": "stdout",
     "output_type": "stream",
     "text": [
      "Series([], Name: Keyword, dtype: int64)\n"
     ]
    }
   ],
   "source": [
    "# Count the occurrences of each skill\n",
    "skills_counts = df['Keyword'].explode().value_counts()\n",
    "print(skills_counts[:10])"
   ]
  },
  {
   "cell_type": "code",
   "execution_count": 18,
   "metadata": {},
   "outputs": [
    {
     "ename": "IndexError",
     "evalue": "index 0 is out of bounds for axis 0 with size 0",
     "output_type": "error",
     "traceback": [
      "\u001b[0;31m---------------------------------------------------------------------------\u001b[0m",
      "\u001b[0;31mIndexError\u001b[0m                                Traceback (most recent call last)",
      "Cell \u001b[0;32mIn[18], line 4\u001b[0m\n\u001b[1;32m      2\u001b[0m \u001b[39m# Plotting the skills count\u001b[39;00m\n\u001b[1;32m      3\u001b[0m plt\u001b[39m.\u001b[39mfigure(figsize\u001b[39m=\u001b[39m(\u001b[39m10\u001b[39m, \u001b[39m6\u001b[39m))\n\u001b[0;32m----> 4\u001b[0m skills_counts\u001b[39m.\u001b[39;49mplot(kind\u001b[39m=\u001b[39;49m\u001b[39m'\u001b[39;49m\u001b[39mbar\u001b[39;49m\u001b[39m'\u001b[39;49m)\n\u001b[1;32m      5\u001b[0m plt\u001b[39m.\u001b[39mxlabel(\u001b[39m'\u001b[39m\u001b[39mSkills\u001b[39m\u001b[39m'\u001b[39m)\n\u001b[1;32m      6\u001b[0m plt\u001b[39m.\u001b[39mylabel(\u001b[39m'\u001b[39m\u001b[39mCount\u001b[39m\u001b[39m'\u001b[39m)\n",
      "File \u001b[0;32m~/.pyenv/versions/3.10.3/lib/python3.10/site-packages/pandas/plotting/_core.py:1000\u001b[0m, in \u001b[0;36mPlotAccessor.__call__\u001b[0;34m(self, *args, **kwargs)\u001b[0m\n\u001b[1;32m    997\u001b[0m             label_name \u001b[39m=\u001b[39m label_kw \u001b[39mor\u001b[39;00m data\u001b[39m.\u001b[39mcolumns\n\u001b[1;32m    998\u001b[0m             data\u001b[39m.\u001b[39mcolumns \u001b[39m=\u001b[39m label_name\n\u001b[0;32m-> 1000\u001b[0m \u001b[39mreturn\u001b[39;00m plot_backend\u001b[39m.\u001b[39;49mplot(data, kind\u001b[39m=\u001b[39;49mkind, \u001b[39m*\u001b[39;49m\u001b[39m*\u001b[39;49mkwargs)\n",
      "File \u001b[0;32m~/.pyenv/versions/3.10.3/lib/python3.10/site-packages/pandas/plotting/_matplotlib/__init__.py:71\u001b[0m, in \u001b[0;36mplot\u001b[0;34m(data, kind, **kwargs)\u001b[0m\n\u001b[1;32m     69\u001b[0m         kwargs[\u001b[39m\"\u001b[39m\u001b[39max\u001b[39m\u001b[39m\"\u001b[39m] \u001b[39m=\u001b[39m \u001b[39mgetattr\u001b[39m(ax, \u001b[39m\"\u001b[39m\u001b[39mleft_ax\u001b[39m\u001b[39m\"\u001b[39m, ax)\n\u001b[1;32m     70\u001b[0m plot_obj \u001b[39m=\u001b[39m PLOT_CLASSES[kind](data, \u001b[39m*\u001b[39m\u001b[39m*\u001b[39mkwargs)\n\u001b[0;32m---> 71\u001b[0m plot_obj\u001b[39m.\u001b[39;49mgenerate()\n\u001b[1;32m     72\u001b[0m plot_obj\u001b[39m.\u001b[39mdraw()\n\u001b[1;32m     73\u001b[0m \u001b[39mreturn\u001b[39;00m plot_obj\u001b[39m.\u001b[39mresult\n",
      "File \u001b[0;32m~/.pyenv/versions/3.10.3/lib/python3.10/site-packages/pandas/plotting/_matplotlib/core.py:459\u001b[0m, in \u001b[0;36mMPLPlot.generate\u001b[0;34m(self)\u001b[0m\n\u001b[1;32m    457\u001b[0m \u001b[39mfor\u001b[39;00m ax \u001b[39min\u001b[39;00m \u001b[39mself\u001b[39m\u001b[39m.\u001b[39maxes:\n\u001b[1;32m    458\u001b[0m     \u001b[39mself\u001b[39m\u001b[39m.\u001b[39m_post_plot_logic_common(ax, \u001b[39mself\u001b[39m\u001b[39m.\u001b[39mdata)\n\u001b[0;32m--> 459\u001b[0m     \u001b[39mself\u001b[39;49m\u001b[39m.\u001b[39;49m_post_plot_logic(ax, \u001b[39mself\u001b[39;49m\u001b[39m.\u001b[39;49mdata)\n",
      "File \u001b[0;32m~/.pyenv/versions/3.10.3/lib/python3.10/site-packages/pandas/plotting/_matplotlib/core.py:1739\u001b[0m, in \u001b[0;36mBarPlot._post_plot_logic\u001b[0;34m(self, ax, data)\u001b[0m\n\u001b[1;32m   1736\u001b[0m \u001b[39melse\u001b[39;00m:\n\u001b[1;32m   1737\u001b[0m     str_index \u001b[39m=\u001b[39m [pprint_thing(key) \u001b[39mfor\u001b[39;00m key \u001b[39min\u001b[39;00m \u001b[39mrange\u001b[39m(data\u001b[39m.\u001b[39mshape[\u001b[39m0\u001b[39m])]\n\u001b[0;32m-> 1739\u001b[0m s_edge \u001b[39m=\u001b[39m \u001b[39mself\u001b[39;49m\u001b[39m.\u001b[39;49max_pos[\u001b[39m0\u001b[39;49m] \u001b[39m-\u001b[39m \u001b[39m0.25\u001b[39m \u001b[39m+\u001b[39m \u001b[39mself\u001b[39m\u001b[39m.\u001b[39mlim_offset\n\u001b[1;32m   1740\u001b[0m e_edge \u001b[39m=\u001b[39m \u001b[39mself\u001b[39m\u001b[39m.\u001b[39max_pos[\u001b[39m-\u001b[39m\u001b[39m1\u001b[39m] \u001b[39m+\u001b[39m \u001b[39m0.25\u001b[39m \u001b[39m+\u001b[39m \u001b[39mself\u001b[39m\u001b[39m.\u001b[39mbar_width \u001b[39m+\u001b[39m \u001b[39mself\u001b[39m\u001b[39m.\u001b[39mlim_offset\n\u001b[1;32m   1742\u001b[0m \u001b[39mself\u001b[39m\u001b[39m.\u001b[39m_decorate_ticks(ax, \u001b[39mself\u001b[39m\u001b[39m.\u001b[39m_get_index_name(), str_index, s_edge, e_edge)\n",
      "\u001b[0;31mIndexError\u001b[0m: index 0 is out of bounds for axis 0 with size 0"
     ]
    },
    {
     "data": {
      "image/png": "[encoded data removed]",
      "text/plain": [
       "<Figure size 1000x600 with 1 Axes>"
      ]
     },
     "metadata": {},
     "output_type": "display_data"
    }
   ],
   "source": [
    "import matplotlib.pyplot as plt\n",
    "# Plotting the skills count\n",
    "plt.figure(figsize=(10, 6))\n",
    "skills_counts.plot(kind='bar')\n",
    "plt.xlabel('Skills')\n",
    "plt.ylabel('Count')\n",
    "plt.title('Most In-Demand Skills')\n",
    "plt.show()"
   ]
  },
  {
   "cell_type": "code",
   "execution_count": null,
   "metadata": {},
   "outputs": [
    {
     "name": "stdout",
     "output_type": "stream",
     "text": [
      "     Unnamed: 0.1  Unnamed: 0           Create time  \\\n",
      "795           803         834  30 May 2023 15:26:30   \n",
      "796           804         835  30 May 2023 15:20:30   \n",
      "797           805         836  30 May 2023 15:15:10   \n",
      "798           806         837   30 May 2023 15:8:37   \n",
      "799           807         838  30 May 2023 14:52:35   \n",
      "800           808         839  30 May 2023 14:52:20   \n",
      "\n",
      "                                              Actor Id     Actor Name  \\\n",
      "795  pfbid02tAdXjtyV95D8ix1JMpXr2G7YvyfhD7o1AEKuRdw...        HL Pham   \n",
      "796  pfbid02qzvt8dGtaxr33ApHSxXjGU8guLAxWUDzc92Tazf...       Bảo Trân   \n",
      "797  pfbid0gXvzF38172NHdjio1ytJjCQPajfe98LJZ3LhyyGh...  Dương Anh Thư   \n",
      "798  pfbid0U5WLzPYqwQV3cR7RdFt8ygG8P34JUWkhUX1tGgji...    Phương Thảo   \n",
      "799  pfbid035qjV8SLB2qdze1gcXCtJvgx2ma6zt1EaZSWBzjp...      ディプロ ベトナム   \n",
      "800  pfbid02TA6TKFGfnB6h7jX9yuFvGqZwfcfxYnFCxMvAh5X...    Tuyết Trinh   \n",
      "\n",
      "                                               Message   Type  Likes  Shares  \\\n",
      "795  Môi trường làm việc tại** Everfit** có gì? \\n\\...  Photo      7       0   \n",
      "796  [Urgent/ Huế] Tìm kiếm vị trí Java/ Angular từ...   Text      2       0   \n",
      "797  [TP Huế]\\n\\nCông ty thuộc tập đoàn IT của ...   Text      2       0   \n",
      "798  [BAP] Sếp request sương sương 20 slots Java từ...   Text     26       0   \n",
      "799  **DIPRO TÌM ĐỒNG ĐỘI !!!**\\n\\n✔️ SENIOR BACKEN...  Photo      2       0   \n",
      "800  ## **Người ta rục rịch mua vé đi ngắm pháo hoa...  Photo     35       2   \n",
      "\n",
      "     Comments                                              Image  \\\n",
      "795         0  https://scontent.fsgn2-9.fna.fbcdn.net/v/t39.3...   \n",
      "796         0  https://www.iamathailand.org/wp-content/upload...   \n",
      "797         0  https://www.iamathailand.org/wp-content/upload...   \n",
      "798         8  https://www.iamathailand.org/wp-content/upload...   \n",
      "799         5  https://scontent.fsgn2-7.fna.fbcdn.net/v/t39.3...   \n",
      "800         4  https://scontent.fsgn2-7.fna.fbcdn.net/v/t39.3...   \n",
      "\n",
      "                                          Link Keyword  \n",
      "795  https://www.facebook.com/2659760360857593      []  \n",
      "796  https://www.facebook.com/2659757570857872  [java]  \n",
      "797  https://www.facebook.com/2659754700858159  [java]  \n",
      "798  https://www.facebook.com/2659751750858454  [java]  \n",
      "799  https://www.facebook.com/2659743367525959      []  \n",
      "800  https://www.facebook.com/2659743247525971      []  \n"
     ]
    }
   ],
   "source": [
    "print(df.loc[795:800])"
   ]
  },
  {
   "cell_type": "code",
   "execution_count": null,
   "metadata": {},
   "outputs": [
    {
     "name": "stdout",
     "output_type": "stream",
     "text": [
      "subset_df                                                 Message     Keyword\n",
      "2069  Nếu bạn chưa đủ gang gang skrtt để casting Gáp...          []\n",
      "2070  # *Khu vực **Hà Nội/Đà Nẵng** cần tìm **Fullst...    [Nodejs]\n",
      "2071  📍 Hải Châu, Đà Nẵng\\n\\n**====SENIOR BACKEND (N...    [Nodejs]\n",
      "2072  ‼️ Hé lộ 09 vị trí hot nhất tại #Fsoft ‼️\\nTro...      [java]\n",
      "2073  [Đà Nẵng] Tuyển dụng .Net từ 2 năm KN upto 45M...          []\n",
      "2074  > Xin được phép tiết lộ ước mơ gớt nước mắt củ...  [frontend]\n",
      "2075  𝐅𝐏𝐓 𝐒𝐨𝐟𝐭𝐰𝐚𝐫𝐞 Đà Nẵng\\n\\nGAM.ESE  -  Đơn vị chu...          []\n"
     ]
    }
   ],
   "source": [
    "subset_df = df[['Message', 'Keyword']].loc[2069:2075]\n",
    "print('subset_df', subset_df)"
   ]
  },
  {
   "cell_type": "code",
   "execution_count": null,
   "metadata": {},
   "outputs": [],
   "source": [
    "subset_df.to_csv('./preprocess/output.csv', index=True, header=True)"
   ]
  }
 ],
 "metadata": {
  "kernelspec": {
   "display_name": "Python 3",
   "language": "python",
   "name": "python3"
  },
  "language_info": {
   "codemirror_mode": {
    "name": "ipython",
    "version": 3
   },
   "file_extension": ".py",
   "mimetype": "text/x-python",
   "name": "python",
   "nbconvert_exporter": "python",
   "pygments_lexer": "ipython3",
   "version": "3.10.3"
  },
  "orig_nbformat": 4
 },
 "nbformat": 4,
 "nbformat_minor": 2
}
