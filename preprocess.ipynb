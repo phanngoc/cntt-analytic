{
 "cells": [
  {
   "attachments": {},
   "cell_type": "markdown",
   "metadata": {},
   "source": [
    "## Đây là file xử lí tạm data đầu vào, trong quá trình train ko cần dùng nữa. Lưu lại với mục đích sử dụng về sau :)"
   ]
  },
  {
   "attachments": {},
   "cell_type": "markdown",
   "metadata": {},
   "source": [
    "### Cách tạo filter 1"
   ]
  },
  {
   "cell_type": "code",
   "execution_count": null,
   "metadata": {},
   "outputs": [],
   "source": [
    "import pandas as pd\n",
    "import numpy as np\n",
    "df = pd.read_excel('_CNTT_Đà Nẵng-368698476630471-53139.xlsx')\n",
    "\n",
    "df.head()\n",
    "messages = df['Message'][:10]\n",
    "# print(messages)\n",
    "# Remove rows where column A is greater than 3\n",
    "df_filtered_1 = df[df['Type'] != 'Video']\n",
    "print(df_filtered_1.head())\n",
    "\n",
    "# Write the DataFrame to a CSV file\n",
    "df_filtered_1.to_csv('./preprocess/filter1.csv', index=False)"
   ]
  },
  {
   "cell_type": "code",
   "execution_count": null,
   "metadata": {},
   "outputs": [],
   "source": [
    "# cách tạo filter 2\n",
    "print(df.info())\n",
    "\n",
    "# Remove rows with NaN values in 'Column1'\n",
    "df_cleaned = df.dropna(subset=['Message'])\n",
    "\n",
    "# Print the cleaned DataFrame\n",
    "print(df_cleaned.info())\n",
    "df_filtered_1.to_csv('./preprocess/filter2.csv', index=False)"
   ]
  },
  {
   "cell_type": "code",
   "execution_count": 4,
   "metadata": {},
   "outputs": [],
   "source": [
    "# Cách tạo filter 3\n",
    "df = pd.read_csv('./preprocess/filter2.csv')\n",
    "def filter_spam_post(row):\n",
    "    words = row['Message'].split()\n",
    "    num_words = len(words)\n",
    "    return num_words > 10\n",
    "\n",
    "condition = df.apply(filter_spam_post, axis=1)\n",
    "df_filter1 = df[condition]\n",
    "df_filter1.to_csv('./preprocess/filter3.csv', index=True)"
   ]
  },
  {
   "cell_type": "code",
   "execution_count": null,
   "metadata": {},
   "outputs": [],
   "source": [
    "# Cách tạo word_tokened.csv\n",
    "df = pd.read_csv('./preprocess/filter3.csv')\n",
    "from underthesea import word_tokenize\n",
    "df['MessageWordToken'] = df['Message'].apply(lambda x: word_tokenize(x, format=\"text\").split())\n",
    "print(df['MessageWordToken'].head())\n",
    "df['MessageWordToken'].to_csv('./preprocess/word_tokened.csv', index=True, header=True)"
   ]
  }
 ],
 "metadata": {
  "kernelspec": {
   "display_name": "Python 3",
   "language": "python",
   "name": "python3"
  },
  "language_info": {
   "codemirror_mode": {
    "name": "ipython",
    "version": 3
   },
   "file_extension": ".py",
   "mimetype": "text/x-python",
   "name": "python",
   "nbconvert_exporter": "python",
   "pygments_lexer": "ipython3",
   "version": "3.10.3"
  },
  "orig_nbformat": 4
 },
 "nbformat": 4,
 "nbformat_minor": 2
}
